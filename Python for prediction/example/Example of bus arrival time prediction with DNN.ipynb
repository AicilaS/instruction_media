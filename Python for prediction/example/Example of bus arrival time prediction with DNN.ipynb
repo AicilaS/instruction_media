{
 "cells": [
  {
   "cell_type": "markdown",
   "metadata": {},
   "source": [
    "# Example of bus arrival time prediction with DNN\n",
    "### Author: Wichai T.\n",
    "This notebook is an example of using DNNRegressor from TensorFlow package.  \n",
    "The DNN is used to learn data of bus travel time to a stop, then the learned model is used to predict the bus travel time with other given set of parameters."
   ]
  },
  {
   "cell_type": "code",
   "execution_count": 1,
   "metadata": {
    "collapsed": false
   },
   "outputs": [],
   "source": [
    "# importing packages\n",
    "\n",
    "import pandas as pd\n",
    "import numpy as np\n",
    "import tensorflow as tf\n",
    "from sklearn.metrics import mean_squared_error\n",
    "from math import sqrt"
   ]
  },
  {
   "cell_type": "markdown",
   "metadata": {},
   "source": [
    "## Read data from a csv file"
   ]
  },
  {
   "cell_type": "code",
   "execution_count": 2,
   "metadata": {
    "collapsed": false
   },
   "outputs": [
    {
     "name": "stdout",
     "output_type": "stream",
     "text": [
      "Shape of data:  (241, 15)\n"
     ]
    }
   ],
   "source": [
    "df = pd.read_csv(r'data\\bus_traveling_data.csv', header=0)\n",
    "\n",
    "print('Shape of data: ', df.shape)"
   ]
  },
  {
   "cell_type": "code",
   "execution_count": 3,
   "metadata": {
    "collapsed": false
   },
   "outputs": [
    {
     "data": {
      "text/html": [
       "<div>\n",
       "<table border=\"1\" class=\"dataframe\">\n",
       "  <thead>\n",
       "    <tr style=\"text-align: right;\">\n",
       "      <th></th>\n",
       "      <th>t_bc</th>\n",
       "      <th>t_bc_ff</th>\n",
       "      <th>t_bc_extp</th>\n",
       "      <th>t_ab</th>\n",
       "      <th>link_progress</th>\n",
       "      <th>speed</th>\n",
       "      <th>sms_ab</th>\n",
       "      <th>exponential_decayed_speed</th>\n",
       "      <th>two_gps_space_mean_speed</th>\n",
       "      <th>six_gps_space_mean_speed</th>\n",
       "      <th>eighteen_gps_space_mean_speed</th>\n",
       "      <th>thirty_gps_space_mean_speed</th>\n",
       "      <th>sixty_gps_space_mean_speed</th>\n",
       "      <th>ninety_gps_space_mean_speed</th>\n",
       "      <th>BC_distance_in_meter_by_linear_ref</th>\n",
       "    </tr>\n",
       "  </thead>\n",
       "  <tbody>\n",
       "    <tr>\n",
       "      <th>0</th>\n",
       "      <td>20</td>\n",
       "      <td>29</td>\n",
       "      <td>0.0</td>\n",
       "      <td>0</td>\n",
       "      <td>0.089130</td>\n",
       "      <td>33</td>\n",
       "      <td>33.000000</td>\n",
       "      <td>31.886683</td>\n",
       "      <td>33.1104</td>\n",
       "      <td>27.4518</td>\n",
       "      <td>25.6430</td>\n",
       "      <td>21.7842</td>\n",
       "      <td>12.6122</td>\n",
       "      <td>8.4081</td>\n",
       "      <td>224.063441</td>\n",
       "    </tr>\n",
       "    <tr>\n",
       "      <th>1</th>\n",
       "      <td>10</td>\n",
       "      <td>17</td>\n",
       "      <td>11.0</td>\n",
       "      <td>10</td>\n",
       "      <td>0.494944</td>\n",
       "      <td>32</td>\n",
       "      <td>43.830200</td>\n",
       "      <td>31.915012</td>\n",
       "      <td>34.1690</td>\n",
       "      <td>27.8687</td>\n",
       "      <td>27.4193</td>\n",
       "      <td>22.4323</td>\n",
       "      <td>13.1760</td>\n",
       "      <td>8.7840</td>\n",
       "      <td>124.237845</td>\n",
       "    </tr>\n",
       "    <tr>\n",
       "      <th>2</th>\n",
       "      <td>30</td>\n",
       "      <td>60</td>\n",
       "      <td>768.0</td>\n",
       "      <td>10</td>\n",
       "      <td>0.012866</td>\n",
       "      <td>16</td>\n",
       "      <td>1.139332</td>\n",
       "      <td>21.727783</td>\n",
       "      <td>8.6832</td>\n",
       "      <td>21.2578</td>\n",
       "      <td>25.2992</td>\n",
       "      <td>18.9315</td>\n",
       "      <td>11.1607</td>\n",
       "      <td>7.4404</td>\n",
       "      <td>242.823587</td>\n",
       "    </tr>\n",
       "    <tr>\n",
       "      <th>3</th>\n",
       "      <td>20</td>\n",
       "      <td>42</td>\n",
       "      <td>47.0</td>\n",
       "      <td>20</td>\n",
       "      <td>0.302005</td>\n",
       "      <td>30</td>\n",
       "      <td>13.372144</td>\n",
       "      <td>23.795837</td>\n",
       "      <td>24.6647</td>\n",
       "      <td>19.2013</td>\n",
       "      <td>25.8253</td>\n",
       "      <td>19.6032</td>\n",
       "      <td>11.5677</td>\n",
       "      <td>7.7118</td>\n",
       "      <td>171.698711</td>\n",
       "    </tr>\n",
       "    <tr>\n",
       "      <th>4</th>\n",
       "      <td>10</td>\n",
       "      <td>18</td>\n",
       "      <td>13.0</td>\n",
       "      <td>30</td>\n",
       "      <td>0.713728</td>\n",
       "      <td>35</td>\n",
       "      <td>21.068264</td>\n",
       "      <td>26.596878</td>\n",
       "      <td>34.7717</td>\n",
       "      <td>18.9430</td>\n",
       "      <td>26.4936</td>\n",
       "      <td>20.5449</td>\n",
       "      <td>12.1415</td>\n",
       "      <td>8.0943</td>\n",
       "      <td>70.419530</td>\n",
       "    </tr>\n",
       "  </tbody>\n",
       "</table>\n",
       "</div>"
      ],
      "text/plain": [
       "   t_bc  t_bc_ff  t_bc_extp  t_ab  link_progress  speed     sms_ab  \\\n",
       "0    20       29        0.0     0       0.089130     33  33.000000   \n",
       "1    10       17       11.0    10       0.494944     32  43.830200   \n",
       "2    30       60      768.0    10       0.012866     16   1.139332   \n",
       "3    20       42       47.0    20       0.302005     30  13.372144   \n",
       "4    10       18       13.0    30       0.713728     35  21.068264   \n",
       "\n",
       "   exponential_decayed_speed  two_gps_space_mean_speed  \\\n",
       "0                  31.886683                   33.1104   \n",
       "1                  31.915012                   34.1690   \n",
       "2                  21.727783                    8.6832   \n",
       "3                  23.795837                   24.6647   \n",
       "4                  26.596878                   34.7717   \n",
       "\n",
       "   six_gps_space_mean_speed  eighteen_gps_space_mean_speed  \\\n",
       "0                   27.4518                        25.6430   \n",
       "1                   27.8687                        27.4193   \n",
       "2                   21.2578                        25.2992   \n",
       "3                   19.2013                        25.8253   \n",
       "4                   18.9430                        26.4936   \n",
       "\n",
       "   thirty_gps_space_mean_speed  sixty_gps_space_mean_speed  \\\n",
       "0                      21.7842                     12.6122   \n",
       "1                      22.4323                     13.1760   \n",
       "2                      18.9315                     11.1607   \n",
       "3                      19.6032                     11.5677   \n",
       "4                      20.5449                     12.1415   \n",
       "\n",
       "   ninety_gps_space_mean_speed  BC_distance_in_meter_by_linear_ref  \n",
       "0                       8.4081                          224.063441  \n",
       "1                       8.7840                          124.237845  \n",
       "2                       7.4404                          242.823587  \n",
       "3                       7.7118                          171.698711  \n",
       "4                       8.0943                           70.419530  "
      ]
     },
     "execution_count": 3,
     "metadata": {},
     "output_type": "execute_result"
    }
   ],
   "source": [
    "# show some sample of data\n",
    "df.head()"
   ]
  },
  {
   "cell_type": "markdown",
   "metadata": {},
   "source": [
    "## Split train / test data (70:30%)"
   ]
  },
  {
   "cell_type": "code",
   "execution_count": 4,
   "metadata": {
    "collapsed": true
   },
   "outputs": [],
   "source": [
    "train_df = df.iloc[:round(len(df)*.7)]\n",
    "test_df = df.iloc[round(len(df)*.7)+1:]"
   ]
  },
  {
   "cell_type": "code",
   "execution_count": 5,
   "metadata": {
    "collapsed": true
   },
   "outputs": [],
   "source": [
    "# select a label and features\n",
    "FEATURES = df.columns[~df.columns.isin(['t_bc','stop_pair','A_stop_id','C_stop_id'])].tolist()\n",
    "LABEL = \"t_bc\""
   ]
  },
  {
   "cell_type": "code",
   "execution_count": 6,
   "metadata": {
    "collapsed": true
   },
   "outputs": [],
   "source": [
    "def data_init(data_set):\n",
    "    feature_cols = {k: tf.constant(data_set[k].values) for k in FEATURES}\n",
    "    labels = tf.constant(data_set[LABEL].values)\n",
    "    return feature_cols, labels"
   ]
  },
  {
   "cell_type": "markdown",
   "metadata": {},
   "source": [
    "## Create DNN model and train"
   ]
  },
  {
   "cell_type": "code",
   "execution_count": 7,
   "metadata": {
    "collapsed": false
   },
   "outputs": [
    {
     "name": "stdout",
     "output_type": "stream",
     "text": [
      "WARNING:tensorflow:Using temporary folder as model directory: C:\\Users\\Pong\\AppData\\Local\\Temp\\tmp15k80bzr\n",
      "INFO:tensorflow:Using default config.\n",
      "INFO:tensorflow:Using config: {'tf_random_seed': None, '_is_chief': True, '_cluster_spec': <tensorflow.python.training.server_lib.ClusterSpec object at 0x0000004C707706A0>, '_task_id': 0, '_task_type': None, 'save_summary_steps': 100, 'save_checkpoints_secs': 600, '_master': '', '_num_ps_replicas': 0, '_environment': 'local', '_evaluation_master': '', 'tf_config': gpu_options {\n",
      "  per_process_gpu_memory_fraction: 1\n",
      "}\n",
      ", 'keep_checkpoint_every_n_hours': 10000, 'keep_checkpoint_max': 5, 'save_checkpoints_steps': None}\n"
     ]
    }
   ],
   "source": [
    "# Initializes a DNNRegressor instance with 4 hidden layer, each 30 nodes\n",
    "estimator = tf.contrib.learn.DNNRegressor(\n",
    "    feature_columns=[tf.contrib.layers.real_valued_column(k) for k in FEATURES],\n",
    "    hidden_units=[30, 30, 30, 30])"
   ]
  },
  {
   "cell_type": "code",
   "execution_count": 8,
   "metadata": {
    "collapsed": false,
    "scrolled": true
   },
   "outputs": [
    {
     "name": "stdout",
     "output_type": "stream",
     "text": [
      "WARNING:tensorflow:Rank of input Tensor (1) should be the same as output_rank (2) for column. Will attempt to expand dims. It is highly recommended that you resize your input, as this behavior may change.\n",
      "WARNING:tensorflow:Rank of input Tensor (1) should be the same as output_rank (2) for column. Will attempt to expand dims. It is highly recommended that you resize your input, as this behavior may change.\n",
      "WARNING:tensorflow:Rank of input Tensor (1) should be the same as output_rank (2) for column. Will attempt to expand dims. It is highly recommended that you resize your input, as this behavior may change.\n",
      "WARNING:tensorflow:Rank of input Tensor (1) should be the same as output_rank (2) for column. Will attempt to expand dims. It is highly recommended that you resize your input, as this behavior may change.\n",
      "WARNING:tensorflow:Rank of input Tensor (1) should be the same as output_rank (2) for column. Will attempt to expand dims. It is highly recommended that you resize your input, as this behavior may change.\n",
      "WARNING:tensorflow:Rank of input Tensor (1) should be the same as output_rank (2) for column. Will attempt to expand dims. It is highly recommended that you resize your input, as this behavior may change.\n",
      "WARNING:tensorflow:Rank of input Tensor (1) should be the same as output_rank (2) for column. Will attempt to expand dims. It is highly recommended that you resize your input, as this behavior may change.\n",
      "WARNING:tensorflow:Rank of input Tensor (1) should be the same as output_rank (2) for column. Will attempt to expand dims. It is highly recommended that you resize your input, as this behavior may change.\n",
      "WARNING:tensorflow:Rank of input Tensor (1) should be the same as output_rank (2) for column. Will attempt to expand dims. It is highly recommended that you resize your input, as this behavior may change.\n",
      "WARNING:tensorflow:Rank of input Tensor (1) should be the same as output_rank (2) for column. Will attempt to expand dims. It is highly recommended that you resize your input, as this behavior may change.\n",
      "WARNING:tensorflow:Rank of input Tensor (1) should be the same as output_rank (2) for column. Will attempt to expand dims. It is highly recommended that you resize your input, as this behavior may change.\n",
      "WARNING:tensorflow:Rank of input Tensor (1) should be the same as output_rank (2) for column. Will attempt to expand dims. It is highly recommended that you resize your input, as this behavior may change.\n",
      "WARNING:tensorflow:Rank of input Tensor (1) should be the same as output_rank (2) for column. Will attempt to expand dims. It is highly recommended that you resize your input, as this behavior may change.\n",
      "WARNING:tensorflow:Rank of input Tensor (1) should be the same as output_rank (2) for column. Will attempt to expand dims. It is highly recommended that you resize your input, as this behavior may change.\n",
      "INFO:tensorflow:Summary name dnn/hiddenlayer_0:fraction_of_zero_values is illegal; using dnn/hiddenlayer_0_fraction_of_zero_values instead.\n",
      "INFO:tensorflow:Summary name dnn/hiddenlayer_0:activation is illegal; using dnn/hiddenlayer_0_activation instead.\n",
      "INFO:tensorflow:Summary name dnn/hiddenlayer_1:fraction_of_zero_values is illegal; using dnn/hiddenlayer_1_fraction_of_zero_values instead.\n",
      "INFO:tensorflow:Summary name dnn/hiddenlayer_1:activation is illegal; using dnn/hiddenlayer_1_activation instead.\n",
      "INFO:tensorflow:Summary name dnn/hiddenlayer_2:fraction_of_zero_values is illegal; using dnn/hiddenlayer_2_fraction_of_zero_values instead.\n",
      "INFO:tensorflow:Summary name dnn/hiddenlayer_2:activation is illegal; using dnn/hiddenlayer_2_activation instead.\n",
      "INFO:tensorflow:Summary name dnn/hiddenlayer_3:fraction_of_zero_values is illegal; using dnn/hiddenlayer_3_fraction_of_zero_values instead.\n",
      "INFO:tensorflow:Summary name dnn/hiddenlayer_3:activation is illegal; using dnn/hiddenlayer_3_activation instead.\n",
      "INFO:tensorflow:Summary name logits:fraction_of_zero_values is illegal; using logits_fraction_of_zero_values instead.\n",
      "INFO:tensorflow:Summary name logits:activation is illegal; using logits_activation instead.\n",
      "INFO:tensorflow:Create CheckpointSaverHook.\n",
      "INFO:tensorflow:loss = 483.23, step = 1\n",
      "INFO:tensorflow:Saving checkpoints for 1 into C:\\Users\\Pong\\AppData\\Local\\Temp\\tmp15k80bzr\\model.ckpt.\n",
      "WARNING:tensorflow:*******************************************************\n",
      "WARNING:tensorflow:TensorFlow's V1 checkpoint format has been deprecated.\n",
      "WARNING:tensorflow:Consider switching to the more efficient V2 format:\n",
      "WARNING:tensorflow:   `tf.train.Saver(write_version=tf.train.SaverDef.V2)`\n",
      "WARNING:tensorflow:now on by default.\n",
      "WARNING:tensorflow:*******************************************************\n",
      "INFO:tensorflow:loss = 12.8748, step = 101\n",
      "INFO:tensorflow:global_step/sec: 109.332\n",
      "INFO:tensorflow:loss = 11.3752, step = 201\n",
      "INFO:tensorflow:global_step/sec: 287.979\n",
      "INFO:tensorflow:loss = 10.6973, step = 301\n",
      "INFO:tensorflow:global_step/sec: 348.187\n",
      "INFO:tensorflow:loss = 10.4918, step = 401\n",
      "INFO:tensorflow:global_step/sec: 388.83\n",
      "INFO:tensorflow:loss = 10.1414, step = 501\n",
      "INFO:tensorflow:global_step/sec: 300.992\n",
      "INFO:tensorflow:loss = 9.66659, step = 601\n",
      "INFO:tensorflow:global_step/sec: 284.698\n",
      "INFO:tensorflow:loss = 9.2325, step = 701\n",
      "INFO:tensorflow:global_step/sec: 351.855\n",
      "INFO:tensorflow:loss = 9.2085, step = 801\n",
      "INFO:tensorflow:global_step/sec: 315.241\n",
      "INFO:tensorflow:loss = 8.91022, step = 901\n",
      "INFO:tensorflow:global_step/sec: 375.674\n",
      "INFO:tensorflow:loss = 9.07444, step = 1001\n",
      "INFO:tensorflow:global_step/sec: 393.42\n",
      "INFO:tensorflow:loss = 9.25623, step = 1101\n",
      "INFO:tensorflow:global_step/sec: 362.064\n",
      "INFO:tensorflow:loss = 8.91835, step = 1201\n",
      "INFO:tensorflow:global_step/sec: 396.542\n",
      "INFO:tensorflow:loss = 8.53634, step = 1301\n",
      "INFO:tensorflow:global_step/sec: 412.931\n",
      "INFO:tensorflow:loss = 8.06805, step = 1401\n",
      "INFO:tensorflow:global_step/sec: 411.234\n",
      "INFO:tensorflow:loss = 7.79844, step = 1501\n",
      "INFO:tensorflow:global_step/sec: 409.545\n",
      "INFO:tensorflow:loss = 7.60915, step = 1601\n",
      "INFO:tensorflow:global_step/sec: 401.305\n",
      "INFO:tensorflow:loss = 7.51198, step = 1701\n",
      "INFO:tensorflow:global_step/sec: 402.942\n",
      "INFO:tensorflow:loss = 7.69215, step = 1801\n",
      "INFO:tensorflow:global_step/sec: 414.636\n",
      "INFO:tensorflow:loss = 6.59436, step = 1901\n",
      "INFO:tensorflow:global_step/sec: 416.368\n",
      "INFO:tensorflow:loss = 6.42089, step = 2001\n",
      "INFO:tensorflow:global_step/sec: 398.152\n",
      "INFO:tensorflow:loss = 6.90537, step = 2101\n",
      "INFO:tensorflow:global_step/sec: 399.715\n",
      "INFO:tensorflow:loss = 7.48718, step = 2201\n",
      "INFO:tensorflow:global_step/sec: 402.941\n",
      "INFO:tensorflow:loss = 6.06426, step = 2301\n",
      "INFO:tensorflow:global_step/sec: 425.231\n",
      "INFO:tensorflow:loss = 6.64326, step = 2401\n",
      "INFO:tensorflow:global_step/sec: 412.93\n",
      "INFO:tensorflow:loss = 5.87006, step = 2501\n",
      "INFO:tensorflow:global_step/sec: 414.647\n",
      "INFO:tensorflow:loss = 6.33592, step = 2601\n",
      "INFO:tensorflow:global_step/sec: 406.213\n",
      "INFO:tensorflow:loss = 6.65516, step = 2701\n",
      "INFO:tensorflow:global_step/sec: 419.857\n",
      "INFO:tensorflow:loss = 5.6898, step = 2801\n",
      "INFO:tensorflow:global_step/sec: 419.886\n",
      "INFO:tensorflow:loss = 5.67162, step = 2901\n",
      "INFO:tensorflow:global_step/sec: 336.463\n",
      "INFO:tensorflow:loss = 6.1244, step = 3001\n",
      "INFO:tensorflow:global_step/sec: 293.909\n",
      "INFO:tensorflow:loss = 6.31137, step = 3101\n",
      "INFO:tensorflow:global_step/sec: 436.372\n",
      "INFO:tensorflow:loss = 5.41673, step = 3201\n",
      "INFO:tensorflow:global_step/sec: 421.643\n",
      "INFO:tensorflow:loss = 5.76937, step = 3301\n",
      "INFO:tensorflow:global_step/sec: 448.115\n",
      "INFO:tensorflow:loss = 6.10507, step = 3401\n",
      "INFO:tensorflow:global_step/sec: 375.673\n",
      "INFO:tensorflow:loss = 5.13673, step = 3501\n",
      "INFO:tensorflow:global_step/sec: 286.329\n",
      "INFO:tensorflow:loss = 5.24775, step = 3601\n",
      "INFO:tensorflow:global_step/sec: 346.979\n",
      "INFO:tensorflow:loss = 5.44149, step = 3701\n",
      "INFO:tensorflow:global_step/sec: 401.307\n",
      "INFO:tensorflow:loss = 5.46275, step = 3801\n",
      "INFO:tensorflow:global_step/sec: 412.943\n",
      "INFO:tensorflow:loss = 5.47433, step = 3901\n",
      "INFO:tensorflow:global_step/sec: 423.414\n",
      "INFO:tensorflow:loss = 5.4965, step = 4001\n",
      "INFO:tensorflow:global_step/sec: 327.649\n",
      "INFO:tensorflow:loss = 5.56457, step = 4101\n",
      "INFO:tensorflow:global_step/sec: 291.338\n",
      "INFO:tensorflow:loss = 5.46876, step = 4201\n",
      "INFO:tensorflow:global_step/sec: 418.114\n",
      "INFO:tensorflow:loss = 4.797, step = 4301\n",
      "INFO:tensorflow:global_step/sec: 427.049\n",
      "INFO:tensorflow:loss = 4.70158, step = 4401\n",
      "INFO:tensorflow:global_step/sec: 432.594\n",
      "INFO:tensorflow:loss = 4.92844, step = 4501\n",
      "INFO:tensorflow:global_step/sec: 419.87\n",
      "INFO:tensorflow:loss = 4.71878, step = 4601\n",
      "INFO:tensorflow:global_step/sec: 412.931\n",
      "INFO:tensorflow:loss = 4.55492, step = 4701\n",
      "INFO:tensorflow:global_step/sec: 378.517\n",
      "INFO:tensorflow:loss = 4.54862, step = 4801\n",
      "INFO:tensorflow:global_step/sec: 330.894\n",
      "INFO:tensorflow:loss = 4.6172, step = 4901\n",
      "INFO:tensorflow:global_step/sec: 412.928\n",
      "INFO:tensorflow:Saving checkpoints for 5000 into C:\\Users\\Pong\\AppData\\Local\\Temp\\tmp15k80bzr\\model.ckpt.\n",
      "WARNING:tensorflow:*******************************************************\n",
      "WARNING:tensorflow:TensorFlow's V1 checkpoint format has been deprecated.\n",
      "WARNING:tensorflow:Consider switching to the more efficient V2 format:\n",
      "WARNING:tensorflow:   `tf.train.Saver(write_version=tf.train.SaverDef.V2)`\n",
      "WARNING:tensorflow:now on by default.\n",
      "WARNING:tensorflow:*******************************************************\n",
      "INFO:tensorflow:Loss for final step: 4.54307.\n"
     ]
    },
    {
     "data": {
      "text/plain": [
       "DNNRegressor(dropout=None, optimizer=None, feature_columns=[_RealValuedColumn(column_name='t_bc_ff', dimension=1, default_value=None, dtype=tf.float32, normalizer=None), _RealValuedColumn(column_name='t_bc_extp', dimension=1, default_value=None, dtype=tf.float32, normalizer=None), _RealValuedColumn(column_name='t_ab', dimension=1, default_value=None, dtype=tf.float32, normalizer=None), _RealValuedColumn(column_name='link_progress', dimension=1, default_value=None, dtype=tf.float32, normalizer=None), _RealValuedColumn(column_name='speed', dimension=1, default_value=None, dtype=tf.float32, normalizer=None), _RealValuedColumn(column_name='sms_ab', dimension=1, default_value=None, dtype=tf.float32, normalizer=None), _RealValuedColumn(column_name='exponential_decayed_speed', dimension=1, default_value=None, dtype=tf.float32, normalizer=None), _RealValuedColumn(column_name='two_gps_space_mean_speed', dimension=1, default_value=None, dtype=tf.float32, normalizer=None), _RealValuedColumn(column_name='six_gps_space_mean_speed', dimension=1, default_value=None, dtype=tf.float32, normalizer=None), _RealValuedColumn(column_name='eighteen_gps_space_mean_speed', dimension=1, default_value=None, dtype=tf.float32, normalizer=None), _RealValuedColumn(column_name='thirty_gps_space_mean_speed', dimension=1, default_value=None, dtype=tf.float32, normalizer=None), _RealValuedColumn(column_name='sixty_gps_space_mean_speed', dimension=1, default_value=None, dtype=tf.float32, normalizer=None), _RealValuedColumn(column_name='ninety_gps_space_mean_speed', dimension=1, default_value=None, dtype=tf.float32, normalizer=None), _RealValuedColumn(column_name='BC_distance_in_meter_by_linear_ref', dimension=1, default_value=None, dtype=tf.float32, normalizer=None)], hidden_units=[30, 30, 30, 30])"
      ]
     },
     "execution_count": 8,
     "metadata": {},
     "output_type": "execute_result"
    }
   ],
   "source": [
    "# training\n",
    "estimator.fit(input_fn=lambda: data_init(train_df), max_steps=5000)"
   ]
  },
  {
   "cell_type": "markdown",
   "metadata": {},
   "source": [
    "## Predict"
   ]
  },
  {
   "cell_type": "code",
   "execution_count": 9,
   "metadata": {
    "collapsed": false,
    "scrolled": true
   },
   "outputs": [
    {
     "name": "stdout",
     "output_type": "stream",
     "text": [
      "WARNING:tensorflow:From <ipython-input-9-1baf4e536a03>:1 in <module>.: calling DNNLinearCombinedRegressor.predict (from tensorflow.contrib.learn.python.learn.estimators.dnn_linear_combined) with as_iterable=False is deprecated and will be removed after 2016-09-15.\n",
      "Instructions for updating:\n",
      "The default behavior of predict() is changing. The default value for\n",
      "as_iterable will change to True, and then the flag will be removed\n",
      "altogether. The behavior of this flag is described below.\n",
      "WARNING:tensorflow:From c:\\users\\pong\\appdata\\local\\programs\\python\\python35\\lib\\site-packages\\tensorflow\\contrib\\learn\\python\\learn\\estimators\\dnn_linear_combined.py:1053 in predict.: calling BaseEstimator.predict (from tensorflow.contrib.learn.python.learn.estimators.estimator) with x is deprecated and will be removed after 2016-12-01.\n",
      "Instructions for updating:\n",
      "Estimator is decoupled from Scikit Learn interface by moving into\n",
      "separate class SKCompat. Arguments x, y and batch_size are only\n",
      "available in the SKCompat class, Estimator will only accept input_fn.\n",
      "Example conversion:\n",
      "  est = Estimator(...) -> est = SKCompat(Estimator(...))\n",
      "WARNING:tensorflow:From c:\\users\\pong\\appdata\\local\\programs\\python\\python35\\lib\\site-packages\\tensorflow\\contrib\\learn\\python\\learn\\estimators\\dnn_linear_combined.py:1053 in predict.: calling BaseEstimator.predict (from tensorflow.contrib.learn.python.learn.estimators.estimator) with batch_size is deprecated and will be removed after 2016-12-01.\n",
      "Instructions for updating:\n",
      "Estimator is decoupled from Scikit Learn interface by moving into\n",
      "separate class SKCompat. Arguments x, y and batch_size are only\n",
      "available in the SKCompat class, Estimator will only accept input_fn.\n",
      "Example conversion:\n",
      "  est = Estimator(...) -> est = SKCompat(Estimator(...))\n",
      "WARNING:tensorflow:From c:\\users\\pong\\appdata\\local\\programs\\python\\python35\\lib\\site-packages\\tensorflow\\contrib\\learn\\python\\learn\\estimators\\dnn_linear_combined.py:1053 in predict.: calling BaseEstimator.predict (from tensorflow.contrib.learn.python.learn.estimators.estimator) with as_iterable is deprecated and will be removed after 2016-12-01.\n",
      "Instructions for updating:\n",
      "Estimator is decoupled from Scikit Learn interface by moving into\n",
      "separate class SKCompat. Arguments x, y and batch_size are only\n",
      "available in the SKCompat class, Estimator will only accept input_fn.\n",
      "Example conversion:\n",
      "  est = Estimator(...) -> est = SKCompat(Estimator(...))\n",
      "WARNING:tensorflow:Rank of input Tensor (1) should be the same as output_rank (2) for column. Will attempt to expand dims. It is highly recommended that you resize your input, as this behavior may change.\n",
      "WARNING:tensorflow:Rank of input Tensor (1) should be the same as output_rank (2) for column. Will attempt to expand dims. It is highly recommended that you resize your input, as this behavior may change.\n",
      "WARNING:tensorflow:Rank of input Tensor (1) should be the same as output_rank (2) for column. Will attempt to expand dims. It is highly recommended that you resize your input, as this behavior may change.\n",
      "WARNING:tensorflow:Rank of input Tensor (1) should be the same as output_rank (2) for column. Will attempt to expand dims. It is highly recommended that you resize your input, as this behavior may change.\n",
      "WARNING:tensorflow:Rank of input Tensor (1) should be the same as output_rank (2) for column. Will attempt to expand dims. It is highly recommended that you resize your input, as this behavior may change.\n",
      "WARNING:tensorflow:Rank of input Tensor (1) should be the same as output_rank (2) for column. Will attempt to expand dims. It is highly recommended that you resize your input, as this behavior may change.\n",
      "WARNING:tensorflow:Rank of input Tensor (1) should be the same as output_rank (2) for column. Will attempt to expand dims. It is highly recommended that you resize your input, as this behavior may change.\n",
      "WARNING:tensorflow:Rank of input Tensor (1) should be the same as output_rank (2) for column. Will attempt to expand dims. It is highly recommended that you resize your input, as this behavior may change.\n",
      "WARNING:tensorflow:Rank of input Tensor (1) should be the same as output_rank (2) for column. Will attempt to expand dims. It is highly recommended that you resize your input, as this behavior may change.\n",
      "WARNING:tensorflow:Rank of input Tensor (1) should be the same as output_rank (2) for column. Will attempt to expand dims. It is highly recommended that you resize your input, as this behavior may change.\n",
      "WARNING:tensorflow:Rank of input Tensor (1) should be the same as output_rank (2) for column. Will attempt to expand dims. It is highly recommended that you resize your input, as this behavior may change.\n",
      "WARNING:tensorflow:Rank of input Tensor (1) should be the same as output_rank (2) for column. Will attempt to expand dims. It is highly recommended that you resize your input, as this behavior may change.\n",
      "WARNING:tensorflow:Rank of input Tensor (1) should be the same as output_rank (2) for column. Will attempt to expand dims. It is highly recommended that you resize your input, as this behavior may change.\n",
      "WARNING:tensorflow:Rank of input Tensor (1) should be the same as output_rank (2) for column. Will attempt to expand dims. It is highly recommended that you resize your input, as this behavior may change.\n",
      "INFO:tensorflow:Summary name dnn/hiddenlayer_0:fraction_of_zero_values is illegal; using dnn/hiddenlayer_0_fraction_of_zero_values instead.\n",
      "INFO:tensorflow:Summary name dnn/hiddenlayer_0:activation is illegal; using dnn/hiddenlayer_0_activation instead.\n",
      "INFO:tensorflow:Summary name dnn/hiddenlayer_1:fraction_of_zero_values is illegal; using dnn/hiddenlayer_1_fraction_of_zero_values instead.\n",
      "INFO:tensorflow:Summary name dnn/hiddenlayer_1:activation is illegal; using dnn/hiddenlayer_1_activation instead.\n",
      "INFO:tensorflow:Summary name dnn/hiddenlayer_2:fraction_of_zero_values is illegal; using dnn/hiddenlayer_2_fraction_of_zero_values instead.\n",
      "INFO:tensorflow:Summary name dnn/hiddenlayer_2:activation is illegal; using dnn/hiddenlayer_2_activation instead.\n",
      "INFO:tensorflow:Summary name dnn/hiddenlayer_3:fraction_of_zero_values is illegal; using dnn/hiddenlayer_3_fraction_of_zero_values instead.\n",
      "INFO:tensorflow:Summary name dnn/hiddenlayer_3:activation is illegal; using dnn/hiddenlayer_3_activation instead.\n",
      "INFO:tensorflow:Summary name logits:fraction_of_zero_values is illegal; using logits_fraction_of_zero_values instead.\n",
      "INFO:tensorflow:Summary name logits:activation is illegal; using logits_activation instead.\n",
      "INFO:tensorflow:Loading model from checkpoint: C:\\Users\\Pong\\AppData\\Local\\Temp\\tmp15k80bzr\\model.ckpt-5000-?????-of-00001.\n"
     ]
    }
   ],
   "source": [
    "y_predict = estimator.predict(input_fn=lambda: data_init(test_df), as_iterable=False)"
   ]
  },
  {
   "cell_type": "markdown",
   "metadata": {},
   "source": [
    "## Evaluate"
   ]
  },
  {
   "cell_type": "code",
   "execution_count": 10,
   "metadata": {
    "collapsed": false
   },
   "outputs": [
    {
     "name": "stdout",
     "output_type": "stream",
     "text": [
      "Mean absolute error (MAE): \t\t2.33 sec\n",
      "Root mean square error (RMSE): \t\t3.50 sec\n",
      "Mean absolute percentage error (MAPE): \t14.80 %\n"
     ]
    }
   ],
   "source": [
    "y_test = test_df[LABEL].values\n",
    "mae = np.mean([abs(true-predict) for true,predict in zip(y_test, y_predict)])\n",
    "rmse = sqrt(mean_squared_error(y_test, y_predict))\n",
    "mape = np.mean([abs(true-predict)/true for true,predict in zip(y_test, y_predict)])*100\n",
    "\n",
    "print('Mean absolute error (MAE): \\t\\t%.2f sec' % mae)\n",
    "print('Root mean square error (RMSE): \\t\\t%.2f sec' % rmse)\n",
    "print('Mean absolute percentage error (MAPE): \\t%.2f %%' % mape)"
   ]
  },
  {
   "cell_type": "markdown",
   "metadata": {
    "collapsed": true
   },
   "source": [
    "## Compare with OLS"
   ]
  },
  {
   "cell_type": "code",
   "execution_count": 11,
   "metadata": {
    "collapsed": false
   },
   "outputs": [
    {
     "name": "stdout",
     "output_type": "stream",
     "text": [
      "MAE improve:  17.23 %\n",
      "RMSE improve: -1.22 %\n",
      "MAPE improve: 5.87 %\n"
     ]
    }
   ],
   "source": [
    "print('MAE improve:  %.2f %%' % ((2.82-mae)/.0282))\n",
    "print('RMSE improve: %.2f %%' % ((3.46-rmse)/.0346))\n",
    "print('MAPE improve: %.2f %%' % (20.67-mape))"
   ]
  }
 ],
 "metadata": {
  "kernelspec": {
   "display_name": "Python 3",
   "language": "python",
   "name": "python3"
  },
  "language_info": {
   "codemirror_mode": {
    "name": "ipython",
    "version": 3
   },
   "file_extension": ".py",
   "mimetype": "text/x-python",
   "name": "python",
   "nbconvert_exporter": "python",
   "pygments_lexer": "ipython3",
   "version": "3.5.2"
  }
 },
 "nbformat": 4,
 "nbformat_minor": 2
}
