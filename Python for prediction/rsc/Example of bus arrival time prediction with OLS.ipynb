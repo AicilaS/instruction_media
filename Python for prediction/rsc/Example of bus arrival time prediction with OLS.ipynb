{
 "cells": [
  {
   "cell_type": "markdown",
   "metadata": {},
   "source": [
    "# Example of bus arrival time prediction with OLS\n",
    "### Author: Wichai T.\n",
    "This notebook is an example of using OLS from python statsmodels package.  \n",
    "The OLS will model a bus travel time to a stop, then the model is used to predict the bus travel time with other given set of parameters."
   ]
  },
  {
   "cell_type": "code",
   "execution_count": 63,
   "metadata": {
    "collapsed": false
   },
   "outputs": [],
   "source": [
    "# importing packages\n",
    "\n",
    "import pandas as pd\n",
    "import numpy as np\n",
    "import statsmodels.api as sm\n",
    "from sklearn.metrics import mean_squared_error\n",
    "from math import sqrt"
   ]
  },
  {
   "cell_type": "markdown",
   "metadata": {},
   "source": [
    "## Read data from a csv file"
   ]
  },
  {
   "cell_type": "code",
   "execution_count": 64,
   "metadata": {
    "collapsed": false
   },
   "outputs": [
    {
     "name": "stdout",
     "output_type": "stream",
     "text": [
      "Shape of data:  (241, 15)\n"
     ]
    }
   ],
   "source": [
    "df = pd.read_csv(r'data\\bus_traveling_data.csv', header=0)\n",
    "\n",
    "print('Shape of data: ', df.shape)"
   ]
  },
  {
   "cell_type": "code",
   "execution_count": 65,
   "metadata": {
    "collapsed": false
   },
   "outputs": [
    {
     "data": {
      "text/html": [
       "<div>\n",
       "<table border=\"1\" class=\"dataframe\">\n",
       "  <thead>\n",
       "    <tr style=\"text-align: right;\">\n",
       "      <th></th>\n",
       "      <th>t_bc</th>\n",
       "      <th>t_bc_ff</th>\n",
       "      <th>t_bc_extp</th>\n",
       "      <th>t_ab</th>\n",
       "      <th>link_progress</th>\n",
       "      <th>speed</th>\n",
       "      <th>sms_ab</th>\n",
       "      <th>exponential_decayed_speed</th>\n",
       "      <th>two_gps_space_mean_speed</th>\n",
       "      <th>six_gps_space_mean_speed</th>\n",
       "      <th>eighteen_gps_space_mean_speed</th>\n",
       "      <th>thirty_gps_space_mean_speed</th>\n",
       "      <th>sixty_gps_space_mean_speed</th>\n",
       "      <th>ninety_gps_space_mean_speed</th>\n",
       "      <th>BC_distance_in_meter_by_linear_ref</th>\n",
       "    </tr>\n",
       "  </thead>\n",
       "  <tbody>\n",
       "    <tr>\n",
       "      <th>0</th>\n",
       "      <td>20</td>\n",
       "      <td>29</td>\n",
       "      <td>0.0</td>\n",
       "      <td>0</td>\n",
       "      <td>0.089130</td>\n",
       "      <td>33</td>\n",
       "      <td>33.000000</td>\n",
       "      <td>31.886683</td>\n",
       "      <td>33.1104</td>\n",
       "      <td>27.4518</td>\n",
       "      <td>25.6430</td>\n",
       "      <td>21.7842</td>\n",
       "      <td>12.6122</td>\n",
       "      <td>8.4081</td>\n",
       "      <td>224.063441</td>\n",
       "    </tr>\n",
       "    <tr>\n",
       "      <th>1</th>\n",
       "      <td>10</td>\n",
       "      <td>17</td>\n",
       "      <td>11.0</td>\n",
       "      <td>10</td>\n",
       "      <td>0.494944</td>\n",
       "      <td>32</td>\n",
       "      <td>43.830200</td>\n",
       "      <td>31.915012</td>\n",
       "      <td>34.1690</td>\n",
       "      <td>27.8687</td>\n",
       "      <td>27.4193</td>\n",
       "      <td>22.4323</td>\n",
       "      <td>13.1760</td>\n",
       "      <td>8.7840</td>\n",
       "      <td>124.237845</td>\n",
       "    </tr>\n",
       "    <tr>\n",
       "      <th>2</th>\n",
       "      <td>30</td>\n",
       "      <td>60</td>\n",
       "      <td>768.0</td>\n",
       "      <td>10</td>\n",
       "      <td>0.012866</td>\n",
       "      <td>16</td>\n",
       "      <td>1.139332</td>\n",
       "      <td>21.727783</td>\n",
       "      <td>8.6832</td>\n",
       "      <td>21.2578</td>\n",
       "      <td>25.2992</td>\n",
       "      <td>18.9315</td>\n",
       "      <td>11.1607</td>\n",
       "      <td>7.4404</td>\n",
       "      <td>242.823587</td>\n",
       "    </tr>\n",
       "    <tr>\n",
       "      <th>3</th>\n",
       "      <td>20</td>\n",
       "      <td>42</td>\n",
       "      <td>47.0</td>\n",
       "      <td>20</td>\n",
       "      <td>0.302005</td>\n",
       "      <td>30</td>\n",
       "      <td>13.372144</td>\n",
       "      <td>23.795837</td>\n",
       "      <td>24.6647</td>\n",
       "      <td>19.2013</td>\n",
       "      <td>25.8253</td>\n",
       "      <td>19.6032</td>\n",
       "      <td>11.5677</td>\n",
       "      <td>7.7118</td>\n",
       "      <td>171.698711</td>\n",
       "    </tr>\n",
       "    <tr>\n",
       "      <th>4</th>\n",
       "      <td>10</td>\n",
       "      <td>18</td>\n",
       "      <td>13.0</td>\n",
       "      <td>30</td>\n",
       "      <td>0.713728</td>\n",
       "      <td>35</td>\n",
       "      <td>21.068264</td>\n",
       "      <td>26.596878</td>\n",
       "      <td>34.7717</td>\n",
       "      <td>18.9430</td>\n",
       "      <td>26.4936</td>\n",
       "      <td>20.5449</td>\n",
       "      <td>12.1415</td>\n",
       "      <td>8.0943</td>\n",
       "      <td>70.419530</td>\n",
       "    </tr>\n",
       "  </tbody>\n",
       "</table>\n",
       "</div>"
      ],
      "text/plain": [
       "   t_bc  t_bc_ff  t_bc_extp  t_ab  link_progress  speed     sms_ab  \\\n",
       "0    20       29        0.0     0       0.089130     33  33.000000   \n",
       "1    10       17       11.0    10       0.494944     32  43.830200   \n",
       "2    30       60      768.0    10       0.012866     16   1.139332   \n",
       "3    20       42       47.0    20       0.302005     30  13.372144   \n",
       "4    10       18       13.0    30       0.713728     35  21.068264   \n",
       "\n",
       "   exponential_decayed_speed  two_gps_space_mean_speed  \\\n",
       "0                  31.886683                   33.1104   \n",
       "1                  31.915012                   34.1690   \n",
       "2                  21.727783                    8.6832   \n",
       "3                  23.795837                   24.6647   \n",
       "4                  26.596878                   34.7717   \n",
       "\n",
       "   six_gps_space_mean_speed  eighteen_gps_space_mean_speed  \\\n",
       "0                   27.4518                        25.6430   \n",
       "1                   27.8687                        27.4193   \n",
       "2                   21.2578                        25.2992   \n",
       "3                   19.2013                        25.8253   \n",
       "4                   18.9430                        26.4936   \n",
       "\n",
       "   thirty_gps_space_mean_speed  sixty_gps_space_mean_speed  \\\n",
       "0                      21.7842                     12.6122   \n",
       "1                      22.4323                     13.1760   \n",
       "2                      18.9315                     11.1607   \n",
       "3                      19.6032                     11.5677   \n",
       "4                      20.5449                     12.1415   \n",
       "\n",
       "   ninety_gps_space_mean_speed  BC_distance_in_meter_by_linear_ref  \n",
       "0                       8.4081                          224.063441  \n",
       "1                       8.7840                          124.237845  \n",
       "2                       7.4404                          242.823587  \n",
       "3                       7.7118                          171.698711  \n",
       "4                       8.0943                           70.419530  "
      ]
     },
     "execution_count": 65,
     "metadata": {},
     "output_type": "execute_result"
    }
   ],
   "source": [
    "# show some sample of data\n",
    "df.head()"
   ]
  },
  {
   "cell_type": "markdown",
   "metadata": {},
   "source": [
    "## Split train / test data (70:30%)"
   ]
  },
  {
   "cell_type": "code",
   "execution_count": 66,
   "metadata": {
    "collapsed": true
   },
   "outputs": [],
   "source": [
    "train_df = df.iloc[:round(len(df)*.7)]\n",
    "test_df = df.iloc[round(len(df)*.7)+1:]"
   ]
  },
  {
   "cell_type": "code",
   "execution_count": 67,
   "metadata": {
    "collapsed": true
   },
   "outputs": [],
   "source": [
    "# divide each into X and y\n",
    "X_train = train_df.ix[:, train_df.columns != 't_bc']\n",
    "y_train = train_df.t_bc\n",
    "\n",
    "X_test = test_df.ix[:, test_df.columns != 't_bc']\n",
    "y_test = test_df.t_bc"
   ]
  },
  {
   "cell_type": "markdown",
   "metadata": {},
   "source": [
    "## Create an OLS model"
   ]
  },
  {
   "cell_type": "code",
   "execution_count": 68,
   "metadata": {
    "collapsed": false,
    "scrolled": false
   },
   "outputs": [
    {
     "data": {
      "text/html": [
       "<table class=\"simpletable\">\n",
       "<caption>OLS Regression Results</caption>\n",
       "<tr>\n",
       "  <th>Dep. Variable:</th>          <td>t_bc</td>       <th>  R-squared:         </th> <td>   0.790</td>\n",
       "</tr>\n",
       "<tr>\n",
       "  <th>Model:</th>                   <td>OLS</td>       <th>  Adj. R-squared:    </th> <td>   0.773</td>\n",
       "</tr>\n",
       "<tr>\n",
       "  <th>Method:</th>             <td>Least Squares</td>  <th>  F-statistic:       </th> <td>   44.90</td>\n",
       "</tr>\n",
       "<tr>\n",
       "  <th>Date:</th>             <td>Wed, 28 Dec 2016</td> <th>  Prob (F-statistic):</th> <td>8.33e-46</td>\n",
       "</tr>\n",
       "<tr>\n",
       "  <th>Time:</th>                 <td>00:56:50</td>     <th>  Log-Likelihood:    </th> <td> -428.75</td>\n",
       "</tr>\n",
       "<tr>\n",
       "  <th>No. Observations:</th>      <td>   169</td>      <th>  AIC:               </th> <td>   885.5</td>\n",
       "</tr>\n",
       "<tr>\n",
       "  <th>Df Residuals:</th>          <td>   155</td>      <th>  BIC:               </th> <td>   929.3</td>\n",
       "</tr>\n",
       "<tr>\n",
       "  <th>Df Model:</th>              <td>    13</td>      <th>                     </th>     <td> </td>   \n",
       "</tr>\n",
       "<tr>\n",
       "  <th>Covariance Type:</th>      <td>nonrobust</td>    <th>                     </th>     <td> </td>   \n",
       "</tr>\n",
       "</table>\n",
       "<table class=\"simpletable\">\n",
       "<tr>\n",
       "                   <td></td>                     <th>coef</th>     <th>std err</th>      <th>t</th>      <th>P>|t|</th>  <th>[0.025</th>    <th>0.975]</th>  \n",
       "</tr>\n",
       "<tr>\n",
       "  <th>t_bc_ff</th>                            <td>   -0.0805</td> <td>    0.034</td> <td>   -2.353</td> <td> 0.020</td> <td>   -0.148</td> <td>   -0.013</td>\n",
       "</tr>\n",
       "<tr>\n",
       "  <th>t_bc_extp</th>                          <td>    0.0092</td> <td>    0.003</td> <td>    3.203</td> <td> 0.002</td> <td>    0.004</td> <td>    0.015</td>\n",
       "</tr>\n",
       "<tr>\n",
       "  <th>t_ab</th>                               <td>   -0.1989</td> <td>    0.074</td> <td>   -2.691</td> <td> 0.008</td> <td>   -0.345</td> <td>   -0.053</td>\n",
       "</tr>\n",
       "<tr>\n",
       "  <th>link_progress</th>                      <td>   19.8033</td> <td>    5.962</td> <td>    3.322</td> <td> 0.001</td> <td>    8.027</td> <td>   31.580</td>\n",
       "</tr>\n",
       "<tr>\n",
       "  <th>speed</th>                              <td>   -0.5949</td> <td>    0.100</td> <td>   -5.951</td> <td> 0.000</td> <td>   -0.792</td> <td>   -0.397</td>\n",
       "</tr>\n",
       "<tr>\n",
       "  <th>sms_ab</th>                             <td>   -0.0945</td> <td>    0.056</td> <td>   -1.694</td> <td> 0.092</td> <td>   -0.205</td> <td>    0.016</td>\n",
       "</tr>\n",
       "<tr>\n",
       "  <th>exponential_decayed_speed</th>          <td>    0.2421</td> <td>    0.254</td> <td>    0.952</td> <td> 0.342</td> <td>   -0.260</td> <td>    0.744</td>\n",
       "</tr>\n",
       "<tr>\n",
       "  <th>two_gps_space_mean_speed</th>           <td>    0.2982</td> <td>    0.099</td> <td>    3.011</td> <td> 0.003</td> <td>    0.103</td> <td>    0.494</td>\n",
       "</tr>\n",
       "<tr>\n",
       "  <th>six_gps_space_mean_speed</th>           <td>   -0.2033</td> <td>    0.170</td> <td>   -1.194</td> <td> 0.234</td> <td>   -0.540</td> <td>    0.133</td>\n",
       "</tr>\n",
       "<tr>\n",
       "  <th>eighteen_gps_space_mean_speed</th>      <td>    0.0881</td> <td>    0.203</td> <td>    0.435</td> <td> 0.665</td> <td>   -0.313</td> <td>    0.489</td>\n",
       "</tr>\n",
       "<tr>\n",
       "  <th>thirty_gps_space_mean_speed</th>        <td>    0.1179</td> <td>    0.234</td> <td>    0.504</td> <td> 0.615</td> <td>   -0.344</td> <td>    0.580</td>\n",
       "</tr>\n",
       "<tr>\n",
       "  <th>sixty_gps_space_mean_speed</th>         <td>   -0.4567</td> <td>    0.371</td> <td>   -1.230</td> <td> 0.220</td> <td>   -1.190</td> <td>    0.277</td>\n",
       "</tr>\n",
       "<tr>\n",
       "  <th>ninety_gps_space_mean_speed</th>        <td>    0.0102</td> <td>    0.254</td> <td>    0.040</td> <td> 0.968</td> <td>   -0.491</td> <td>    0.511</td>\n",
       "</tr>\n",
       "<tr>\n",
       "  <th>BC_distance_in_meter_by_linear_ref</th> <td>    0.1524</td> <td>    0.020</td> <td>    7.702</td> <td> 0.000</td> <td>    0.113</td> <td>    0.191</td>\n",
       "</tr>\n",
       "</table>\n",
       "<table class=\"simpletable\">\n",
       "<tr>\n",
       "  <th>Omnibus:</th>       <td>32.340</td> <th>  Durbin-Watson:     </th> <td>   1.254</td>\n",
       "</tr>\n",
       "<tr>\n",
       "  <th>Prob(Omnibus):</th> <td> 0.000</td> <th>  Jarque-Bera (JB):  </th> <td>  53.106</td>\n",
       "</tr>\n",
       "<tr>\n",
       "  <th>Skew:</th>          <td> 0.975</td> <th>  Prob(JB):          </th> <td>2.94e-12</td>\n",
       "</tr>\n",
       "<tr>\n",
       "  <th>Kurtosis:</th>      <td> 4.933</td> <th>  Cond. No.          </th> <td>4.71e+03</td>\n",
       "</tr>\n",
       "</table>"
      ],
      "text/plain": [
       "<class 'statsmodels.iolib.summary.Summary'>\n",
       "\"\"\"\n",
       "                            OLS Regression Results                            \n",
       "==============================================================================\n",
       "Dep. Variable:                   t_bc   R-squared:                       0.790\n",
       "Model:                            OLS   Adj. R-squared:                  0.773\n",
       "Method:                 Least Squares   F-statistic:                     44.90\n",
       "Date:                Wed, 28 Dec 2016   Prob (F-statistic):           8.33e-46\n",
       "Time:                        00:56:50   Log-Likelihood:                -428.75\n",
       "No. Observations:                 169   AIC:                             885.5\n",
       "Df Residuals:                     155   BIC:                             929.3\n",
       "Df Model:                          13                                         \n",
       "Covariance Type:            nonrobust                                         \n",
       "======================================================================================================\n",
       "                                         coef    std err          t      P>|t|      [0.025      0.975]\n",
       "------------------------------------------------------------------------------------------------------\n",
       "t_bc_ff                               -0.0805      0.034     -2.353      0.020      -0.148      -0.013\n",
       "t_bc_extp                              0.0092      0.003      3.203      0.002       0.004       0.015\n",
       "t_ab                                  -0.1989      0.074     -2.691      0.008      -0.345      -0.053\n",
       "link_progress                         19.8033      5.962      3.322      0.001       8.027      31.580\n",
       "speed                                 -0.5949      0.100     -5.951      0.000      -0.792      -0.397\n",
       "sms_ab                                -0.0945      0.056     -1.694      0.092      -0.205       0.016\n",
       "exponential_decayed_speed              0.2421      0.254      0.952      0.342      -0.260       0.744\n",
       "two_gps_space_mean_speed               0.2982      0.099      3.011      0.003       0.103       0.494\n",
       "six_gps_space_mean_speed              -0.2033      0.170     -1.194      0.234      -0.540       0.133\n",
       "eighteen_gps_space_mean_speed          0.0881      0.203      0.435      0.665      -0.313       0.489\n",
       "thirty_gps_space_mean_speed            0.1179      0.234      0.504      0.615      -0.344       0.580\n",
       "sixty_gps_space_mean_speed            -0.4567      0.371     -1.230      0.220      -1.190       0.277\n",
       "ninety_gps_space_mean_speed            0.0102      0.254      0.040      0.968      -0.491       0.511\n",
       "BC_distance_in_meter_by_linear_ref     0.1524      0.020      7.702      0.000       0.113       0.191\n",
       "==============================================================================\n",
       "Omnibus:                       32.340   Durbin-Watson:                   1.254\n",
       "Prob(Omnibus):                  0.000   Jarque-Bera (JB):               53.106\n",
       "Skew:                           0.975   Prob(JB):                     2.94e-12\n",
       "Kurtosis:                       4.933   Cond. No.                     4.71e+03\n",
       "==============================================================================\n",
       "\n",
       "Warnings:\n",
       "[1] Standard Errors assume that the covariance matrix of the errors is correctly specified.\n",
       "[2] The condition number is large, 4.71e+03. This might indicate that there are\n",
       "strong multicollinearity or other numerical problems.\n",
       "\"\"\""
      ]
     },
     "execution_count": 68,
     "metadata": {},
     "output_type": "execute_result"
    }
   ],
   "source": [
    "# fit the model\n",
    "est = sm.OLS(y_train, X_train).fit()\n",
    "\n",
    "est.summary()"
   ]
  },
  {
   "cell_type": "markdown",
   "metadata": {},
   "source": [
    "## Predict"
   ]
  },
  {
   "cell_type": "code",
   "execution_count": 69,
   "metadata": {
    "collapsed": true
   },
   "outputs": [],
   "source": [
    "y_predict = est.predict(X_test)"
   ]
  },
  {
   "cell_type": "markdown",
   "metadata": {},
   "source": [
    "## Evaluate"
   ]
  },
  {
   "cell_type": "code",
   "execution_count": 70,
   "metadata": {
    "collapsed": false
   },
   "outputs": [
    {
     "name": "stdout",
     "output_type": "stream",
     "text": [
      "Mean absolute error (MAE): \t\t2.82 sec\n",
      "Root mean square error (RMSE): \t\t3.46 sec\n",
      "Mean absolute percentage error (MAPE): \t20.67 %\n"
     ]
    }
   ],
   "source": [
    "mae = np.mean([abs(true-predict) for true,predict in zip(y_test, y_predict)])\n",
    "rmse = sqrt(mean_squared_error(y_test, y_predict))\n",
    "mape = np.mean([abs(true-predict)/true for true,predict in zip(y_test, y_predict)])*100\n",
    "\n",
    "print('Mean absolute error (MAE): \\t\\t%.2f sec' % mae)\n",
    "print('Root mean square error (RMSE): \\t\\t%.2f sec' % rmse)\n",
    "print('Mean absolute percentage error (MAPE): \\t%.2f %%' % mape)"
   ]
  }
 ],
 "metadata": {
  "kernelspec": {
   "display_name": "Python 3",
   "language": "python",
   "name": "python3"
  },
  "language_info": {
   "codemirror_mode": {
    "name": "ipython",
    "version": 3
   },
   "file_extension": ".py",
   "mimetype": "text/x-python",
   "name": "python",
   "nbconvert_exporter": "python",
   "pygments_lexer": "ipython3",
   "version": "3.5.2"
  }
 },
 "nbformat": 4,
 "nbformat_minor": 2
}
